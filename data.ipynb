{
 "cells": [
  {
   "cell_type": "code",
   "execution_count": 1,
   "metadata": {},
   "outputs": [],
   "source": [
    "import pandas as pd\n",
    "import numpy as np\n",
    "import random\n",
    "from App import App\n",
    "\n",
    "\n"
   ]
  },
  {
   "cell_type": "code",
   "execution_count": 18,
   "metadata": {},
   "outputs": [],
   "source": [
    "app = App(\"http://localhost:3001/getEmbeddings/all/all\")\n",
    "\n",
    "# Supposons que vous ayez votre liste d'embeddings : embedding_list\n",
    "embedding_list = list(app.embeddings.values())  # Remplacez les points de suspension par vos vecteurs\n",
    "\n",
    "\n",
    "random.shuffle(embedding_list)\n",
    "\n"
   ]
  },
  {
   "cell_type": "code",
   "execution_count": 42,
   "metadata": {},
   "outputs": [
    {
     "data": {
      "text/plain": [
       "(1, 128)"
      ]
     },
     "execution_count": 42,
     "metadata": {},
     "output_type": "execute_result"
    },
    {
     "ename": "",
     "evalue": "",
     "output_type": "error",
     "traceback": [
      "\u001b[1;31mThe Kernel crashed while executing code in the the current cell or a previous cell. Please review the code in the cell(s) to identify a possible cause of the failure. Click <a href='https://aka.ms/vscodeJupyterKernelCrash'>here</a> for more info. View Jupyter <a href='command:jupyter.viewOutput'>log</a> for further details."
     ]
    }
   ],
   "source": [
    "app.embeddings[\"03\"].shape"
   ]
  },
  {
   "cell_type": "code",
   "execution_count": null,
   "metadata": {},
   "outputs": [],
   "source": [
    "# Créez une liste pour stocker les vecteurs et les classes\n",
    "data = []\n",
    "\n",
    "# Parcourez les embeddings de la liste\n",
    "for i in range(len(embedding_list)):\n",
    "    for j in range(i+1, len(embedding_list)):\n",
    "        emb1 = embedding_list[i]\n",
    "        emb2 = embedding_list[j]\n",
    "        \n",
    "        # Vérifiez si les embeddings sont égaux\n",
    "        if np.array_equal(emb1, emb2):\n",
    "            # S'ils sont égaux, ajoutez-les à la liste des données avec la classe 1\n",
    "            data.append([emb1, emb2, 1])\n",
    "        else:\n",
    "            # Sinon, ajoutez-les à la liste des données avec la classe 0\n",
    "            data.append([emb1, emb2, 0])\n",
    "\n",
    "# Convertissez la liste des données en DataFrame pandas\n",
    "df = pd.DataFrame(data, columns=['Vecteu    r 1', 'Vecteur 2', 'Classe'])\n",
    "\n",
    "# Affichez les premières lignes du DataFrame\n",
    "print(df.head())"
   ]
  },
  {
   "cell_type": "code",
   "execution_count": 20,
   "metadata": {},
   "outputs": [
    {
     "name": "stdout",
     "output_type": "stream",
     "text": [
      "Empty DataFrame\n",
      "Columns: [Vecteur 1, Vecteur 2, Classe]\n",
      "Index: []\n"
     ]
    }
   ],
   "source": [
    "df_classe_1 = df.loc[df['Classe'] == 1]\n",
    "\n",
    "# Afficher les lignes ayant la classe 1\n",
    "print(df_classe_1)"
   ]
  },
  {
   "cell_type": "code",
   "execution_count": 38,
   "metadata": {},
   "outputs": [],
   "source": [
    "\n",
    "df = pd.read_csv('miv.csv')\n",
    "\n",
    "#df\n",
    "\n"
   ]
  },
  {
   "cell_type": "code",
   "execution_count": 39,
   "metadata": {},
   "outputs": [
    {
     "name": "stdout",
     "output_type": "stream",
     "text": [
      "Nombre de classes 0 : 2247\n",
      "Nombre de classes 1 : 2228\n"
     ]
    }
   ],
   "source": [
    "counts = df['Classe'].value_counts()\n",
    "\n",
    "# Afficher le nombre de classes 0 et 1\n",
    "print(\"Nombre de classes 0 :\", counts[0])\n",
    "print(\"Nombre de classes 1 :\", counts[1])"
   ]
  },
  {
   "cell_type": "code",
   "execution_count": null,
   "metadata": {},
   "outputs": [],
   "source": []
  }
 ],
 "metadata": {
  "kernelspec": {
   "display_name": "env",
   "language": "python",
   "name": "python3"
  },
  "language_info": {
   "codemirror_mode": {
    "name": "ipython",
    "version": 3
   },
   "file_extension": ".py",
   "mimetype": "text/x-python",
   "name": "python",
   "nbconvert_exporter": "python",
   "pygments_lexer": "ipython3",
   "version": "3.10.2"
  }
 },
 "nbformat": 4,
 "nbformat_minor": 2
}
